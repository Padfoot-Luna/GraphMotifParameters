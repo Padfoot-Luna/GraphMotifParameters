{
 "cells": [
  {
   "cell_type": "markdown",
   "metadata": {},
   "source": [
    "### Algorithms\n",
    "1. a tree decomposition\n",
    "    1. build elimination orderings greedily\n",
    "        - fill\n",
    "        - degree\n",
    "    2. triangulate a graph $G$ into a chordal graph $G_\\pi^+$\n",
    "    3. construct TD\n",
    "2. a nice tree decompostion\n",
    "3. a stingy ordering\n",
    "4. [#H-coloring](https://www.sciencedirect.com/science/article/pii/S0304397502000178?via%3Dihub)\n",
    "    - a polynomial time algrithm for partial k-trees\n",
    "    - $H$ is generic and only input $G$ is restricted (small treewidth)\n",
    "5. #subgraph\n",
    "    - VF2\n",
    "        - subgraph isomorphism\n",
    "            - a mapping M is an isomorphism between G2 and a subgraph of G1\n",
    "            - ‘subgraph’ always means a ‘node-induced subgraph’\n",
    "            - subgraphs which are not induced, the term ‘monomorphism’ is preferred over ‘isomorphism’.\n",
    "    - #hom basis"
   ]
  },
  {
   "cell_type": "markdown",
   "metadata": {},
   "source": [
    "### Notations\n",
    "- partial k-trees: graphs with treewidth at most k\n",
    "- parameters\n",
    "    - $k$: the width of the given tree decomposition of $G$\n",
    "    - $h$: $|V(H)|$\n",
    "    - $e$: $|E(H)|$\n",
    "    - $n$: $|V(G)|$\n",
    "- "
   ]
  },
  {
   "cell_type": "markdown",
   "metadata": {},
   "source": [
    "#### Tree Decomposition and Treewidth \n",
    "- Treewidth of a network is used to measure how tree-like a network is. Intuitively, a tree has a treewidth of 1 because the graph can be separated by the removal of a single edge (or vertex) in the network, whereas a cycle requires two edges to be cut and thus has a treewidth of 2. TDs with large widths require larger numbers of vertices to separate a network into two disconnected pieces.\n",
    "    - tw(tree) = 1\n",
    "    - tw(forests) = 1\n",
    "    - tw(cycle) = 2\n",
    "    - tw(clique $K_n$) = $n-1$\n",
    "    - tw(series-parallel graphs) $\\leq 2$\n",
    "    - tw($n\\times n$ planar grid) = $n$\n",
    "- TDs remain valid under taking subgraphs\n",
    "- Graphs for experiments\n",
    "    - Toy data consist of a binary tree, a lattice, a cycle, a clique, and a dense random graph, i.e., graphs for which optimal TDs are known\n",
    "    - The synthetic data consists of Erd˝os–R´enyi and power law random graph models, which help us understand the effect of noise/randomness on the TDs"
   ]
  },
  {
   "cell_type": "markdown",
   "metadata": {},
   "source": [
    "#### #H-coloring and #Sub\n",
    "- $\\#Sub(k-node-independent, G)=\\binom{|V(G)|}{k}$\n",
    "- $\\#Hom(k-node-independent, G)=|V(G)|^k$\n",
    "- $\\#Sub(edge, G)=|E(G)|$\n",
    "- $\\#Hom(edge, G)=2*|E(G)|$\n"
   ]
  },
  {
   "cell_type": "code",
   "execution_count": null,
   "metadata": {},
   "outputs": [],
   "source": []
  }
 ],
 "metadata": {
  "kernelspec": {
   "display_name": "Python 3",
   "language": "python",
   "name": "python3"
  },
  "language_info": {
   "codemirror_mode": {
    "name": "ipython",
    "version": 3
   },
   "file_extension": ".py",
   "mimetype": "text/x-python",
   "name": "python",
   "nbconvert_exporter": "python",
   "pygments_lexer": "ipython3",
   "version": "3.7.5"
  }
 },
 "nbformat": 4,
 "nbformat_minor": 2
}
